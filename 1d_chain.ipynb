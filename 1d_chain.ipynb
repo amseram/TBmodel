{
 "cells": [
  {
   "cell_type": "code",
   "execution_count": 8,
   "metadata": {
    "tags": []
   },
   "outputs": [
    {
     "data": {
      "image/png": "[encoded data removed]",
      "text/plain": [
       "<Figure size 432x288 with 1 Axes>"
      ]
     },
     "metadata": {
      "needs_background": "light"
     },
     "output_type": "display_data"
    },
    {
     "data": {
      "text/plain": [
       "<function __main__.odc(l=8, t0=-2.0, t1=-2.5, e1=-2.0)>"
      ]
     },
     "execution_count": 8,
     "metadata": {},
     "output_type": "execute_result"
    }
   ],
   "source": [
    "import numpy as np\n",
    "import matplotlib.pyplot as plt\n",
    "from ipywidgets import interact, interactive, fixed, interact_manual\n",
    "import ipywidgets as widgets\n",
    "\n",
    "def mapindex(check,l):\n",
    "    tmp = []\n",
    "    [[tmp.append((i,j)) for j in range(l) if check[i,j]] for i in range(l)]\n",
    "    tmp = np.array(tmp).T\n",
    "    return tuple([tuple(tmp[0]),tuple(tmp[1])])\n",
    "\n",
    "def odc(l=8, t0=-2., t1=-2.5, e1=-2.):\n",
    "    k   = int(0.5*l) - 1\n",
    "    a   = np.zeros((l,l))\n",
    "    a[tuple([tuple(list(range(l))+list(range(-1,l-1))),tuple(list(range(-1,l-1))+list(range(l)))])] = t0\n",
    "    a[tuple([(k+1,k-1,k,k),(k,k,k+1,k-1)])] = t1 \n",
    "    a[k,k]=e1\n",
    "    f   = np.array([ [ ir*ic  for ir in [ np.any(ja!=0) for ja in a.T ]  ] for ic in [ np.any(ia!=0) for ia in a] ])\n",
    "    d   = [i for i in range(l) if f[i,i]]\n",
    "    mi  = mapindex(f,l)\n",
    "    #mi  = map(list,zip(*mi)))\n",
    "    ll  = int(np.sqrt(len(mi[0])))\n",
    "    x   = a[mi].reshape((ll,ll))\n",
    "    e,q = np.linalg.eig(x)\n",
    "    uu  = (q*q).T\n",
    "    kk  = int(np.ceil(np.shape(x)[0]/2)) - 1 \n",
    "    if kk != 0:\n",
    "        if len(d)%2 == 0:\n",
    "            rho =[2.0*sum(itu) for itu in uu[:kk+1,:].T]\n",
    "        else :\n",
    "            rho =[2.0*sum(itu[:-1]) + itu[-1] for itu in uu[:kk+1,:].T]\n",
    "    else:\n",
    "        rho = [1]\n",
    "    den = np.ones(l)\n",
    "    for ind, dd in enumerate(d):\n",
    "        den[dd] = rho[ind] \n",
    "    plt.plot(den)\n",
    "    plt.show()\n",
    "interact(odc,l=(2,100,2),t0=(-10.,0.,0.1), t1=(-10.,0.,0.1),e1=(-10.,0.,0.1))"
   ]
  },
  {
   "cell_type": "code",
   "execution_count": null,
   "metadata": {},
   "outputs": [],
   "source": []
  }
 ],
 "metadata": {
  "kernelspec": {
   "display_name": "Python 3",
   "language": "python",
   "name": "python3"
  },
  "language_info": {
   "codemirror_mode": {
    "name": "ipython",
    "version": 3
   },
   "file_extension": ".py",
   "mimetype": "text/x-python",
   "name": "python",
   "nbconvert_exporter": "python",
   "pygments_lexer": "ipython3",
   "version": "3.7.6"
  }
 },
 "nbformat": 4,
 "nbformat_minor": 4
}
